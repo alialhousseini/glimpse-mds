{
 "cells": [
  {
   "cell_type": "markdown",
   "metadata": {},
   "source": [
    "## RSA Summary Computation"
   ]
  },
  {
   "cell_type": "code",
   "execution_count": 1,
   "metadata": {},
   "outputs": [],
   "source": [
    "import os\n",
    "import subprocess\n",
    "import sys\n",
    "import torch\n",
    "from pathlib import Path\n",
    "import pandas as pd"
   ]
  },
  {
   "cell_type": "code",
   "execution_count": 3,
   "metadata": {},
   "outputs": [],
   "source": [
    "candidates = Path(\"data/candidates2\")\n",
    "\n",
    "# Run this command in terminal (easier)\n",
    "# python glimpse/src/compute_rsa.py --summaries_folder data/candidates2\n",
    "\n",
    "# try:\n",
    "#     rsa_command = [\n",
    "#         \"python\",\n",
    "#         \"glimpse/src/compute_rsa.py\",\n",
    "#         \"--summaries_folder\",\n",
    "#         candidates,\n",
    "#         \"--model_name\",\n",
    "#         \"\"\n",
    "#     ]\n",
    "#     rsa_scores = subprocess.check_output(rsa_command).decode(\"utf-8\").strip().split(\"\\n\")[-1]\n",
    "#     print(f\"Computed RSA SUMMARIES\")\n",
    "# except subprocess.CalledProcessError:\n",
    "#     print(\"Failed to compute RSA summaries.\")\n",
    "#     sys.exit(1)\n"
   ]
  },
  {
   "cell_type": "code",
   "execution_count": null,
   "metadata": {},
   "outputs": [],
   "source": [
    "# Run Instead\n",
    "# python glimpse/evaluate/evaluate_common_metrics_samples.py --summaries_folder allSummariesGUnique/ --output_folder allSummariesGUnique2/\n",
    "# python glimpse/evaluate/evaluate_common_metrics_samples.py --summaries_folder allSummariesGSpeaker/ --output_folder allSummariesGSpeaker/\n",
    "\n",
    "# #GLIMPS SPEAKER\n",
    "# sumFolder = \"D:\\\\Universita\\\\Progetto NLP\\\\model_evaluation\\\\NLP-Project\\\\allSummariesGSpeaker\"\n",
    "# outputFolder = \"D:/Universita/Progetto NLP/model_evaluation/NLP-Project/BERTGLSSPEAKER\"\n",
    "# try:\n",
    "#     rsa_command = [\n",
    "#         \"python\",\n",
    "#         \"glimpse/evaluate/evaluate_bartbert_metrics.py\",\n",
    "#         \"--summaries_folder\",\n",
    "#         sumFolder,\n",
    "#         \"--output_folder\",\n",
    "#         outputFolder\n",
    "#     ]\n",
    "#     rsa_scores = subprocess.check_output(rsa_command).decode(\"utf-8\").strip().split(\"\\n\")[-1]\n",
    "#     print(f\"Computed BERT SCORE\")\n",
    "# except subprocess.CalledProcessError:\n",
    "#     print(\"Failed to compute BERT SCORE\")\n",
    "#     sys.exit(1)\n",
    "\n",
    "# #GLIMPSE UNIQUE\n",
    "# sumFolder = \"D:\\\\Universita\\\\Progetto NLP\\\\model_evaluation\\\\NLP-Project\\\\allSummariesGUnique\"\n",
    "# outputFolder = \"D:/Universita/Progetto NLP/model_evaluation/NLP-Project/BERTGLSUNIQUE\"\n",
    "# try:\n",
    "#     rsa_command = [\n",
    "#         \"python\",\n",
    "#         \"glimpse/evaluate/evaluate_bartbert_metrics.py\",\n",
    "#         \"--summaries_folder\",\n",
    "#         sumFolder,\n",
    "#         \"--output_folder\",\n",
    "#         outputFolder\n",
    "#     ]\n",
    "#     rsa_scores = subprocess.check_output(rsa_command).decode(\"utf-8\").strip().split(\"\\n\")[-1]\n",
    "#     print(f\"Computed BERT SCORE\")\n",
    "# except subprocess.CalledProcessError:\n",
    "#     print(\"Failed to compute BERT SCORE\")\n",
    "#     sys.exit(1)\n"
   ]
  },
  {
   "cell_type": "code",
   "execution_count": null,
   "metadata": {},
   "outputs": [],
   "source": [
    "# python glimpse/evaluate/evaluate_bartbert_metrics.py --summaries_folder allSummariesGUnique2/ --output_folder allSummariesGUnique2/\n",
    "# python glimpse/evaluate/evaluate_bartbert_metrics.py --summaries_folder allSummariesGSpeaker2/ --output_folder allSummariesGSpeaker2/"
   ]
  },
  {
   "cell_type": "code",
   "execution_count": null,
   "metadata": {},
   "outputs": [],
   "source": []
  }
 ],
 "metadata": {
  "kernelspec": {
   "display_name": "env",
   "language": "python",
   "name": "python3"
  },
  "language_info": {
   "codemirror_mode": {
    "name": "ipython",
    "version": 3
   },
   "file_extension": ".py",
   "mimetype": "text/x-python",
   "name": "python",
   "nbconvert_exporter": "python",
   "pygments_lexer": "ipython3",
   "version": "3.11.8"
  }
 },
 "nbformat": 4,
 "nbformat_minor": 2
}
